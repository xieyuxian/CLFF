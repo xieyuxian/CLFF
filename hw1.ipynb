{
 "cells": [
  {
   "cell_type": "code",
   "execution_count": 13,
   "metadata": {},
   "outputs": [],
   "source": [
    "import numpy as np \n",
    "import matplotlib.pyplot as plt \n",
    "#手动定义某类标签样本数\n",
    "num = 10\n",
    "\n",
    "#生成数据样本\n",
    "np.random.seed(0) \n",
    "x = np.r_[np.random.randn(num,2)-[2,2],np.random.randn(num,2)+[2,2]] \n",
    "y = [-1]*num+[1]*num #生成标签\n"
   ]
  },
  {
   "cell_type": "code",
   "execution_count": 2,
   "metadata": {},
   "outputs": [
    {
     "data": {
      "image/png": "[encoded data removed]",
      "text/plain": [
       "<Figure size 432x288 with 1 Axes>"
      ]
     },
     "metadata": {
      "needs_background": "light"
     },
     "output_type": "display_data"
    }
   ],
   "source": [
    "#画样本散点图\n",
    "plt.figure()\n",
    "for i in range(len(x)):\n",
    "    if y[i] ==1:\n",
    "        plt.plot(x[i][0],x[i][1],'ro')\n",
    "    else:\n",
    "        plt.plot(x[i][0],x[i][1],'bo')"
   ]
  },
  {
   "cell_type": "code",
   "execution_count": 3,
   "metadata": {},
   "outputs": [],
   "source": [
    "#初始化参数\n",
    "w = np.array([-1,1])\n",
    "b = 0\n",
    "delta = 0.5"
   ]
  },
  {
   "cell_type": "code",
   "execution_count": 4,
   "metadata": {},
   "outputs": [
    {
     "data": {
      "image/png": "[encoded data removed]",
      "text/plain": [
       "<Figure size 432x288 with 1 Axes>"
      ]
     },
     "metadata": {
      "needs_background": "light"
     },
     "output_type": "display_data"
    }
   ],
   "source": [
    "#重绘散点图\n",
    "plt.figure()\n",
    "for i in range(len(x)):\n",
    "    if y[i] ==1:\n",
    "        plt.plot(x[i][0],x[i][1],'ro')\n",
    "    else:\n",
    "        plt.plot(x[i][0],x[i][1],'bo')\n",
    "\n",
    "\n",
    "#开始训练\n",
    "for i in range(100):\n",
    "    #初始化梯度值\n",
    "    grad_x = np.array([0,0])\n",
    "    grad_b = 0\n",
    "    \n",
    "    for j in range(len(x)):\n",
    "        #寻找错分样本\n",
    "        if y[j] != np.sign(np.dot(w,x[j])+b):\n",
    "            #更新反向梯度值\n",
    "            grad_x = grad_x+y[j]*x[j]\n",
    "            grad_b = grad_b+y[j]\n",
    "            \n",
    "    #利用梯度下降更新参数\n",
    "    w = w+delta*grad_x\n",
    "    b = b+delta*grad_b\n",
    "    \n",
    "    #每训练10次更新一次分界线\n",
    "    if i%10 ==0 : \n",
    "        #为了画分界线，必须生成两个点，因为两点确定一条直线\n",
    "        xx = [-4,4]\n",
    "        yy = [0,0]\n",
    "        for i in range(len(xx)):\n",
    "            yy[i] = -(w[0]*xx[i]+b)/w[1]\n",
    "        pp = plt.plot(xx,yy)\n",
    "\n",
    "    \n",
    "    \n",
    "        "
   ]
  },
  {
   "cell_type": "markdown",
   "metadata": {},
   "source": [
    "观察可以发现，分界线一步一步地得到优化，最后能达到较好的分类结果"
   ]
  },
  {
   "cell_type": "code",
   "execution_count": null,
   "metadata": {},
   "outputs": [],
   "source": []
  }
 ],
 "metadata": {
  "kernelspec": {
   "display_name": "Python 3",
   "language": "python",
   "name": "python3"
  },
  "language_info": {
   "codemirror_mode": {
    "name": "ipython",
    "version": 3
   },
   "file_extension": ".py",
   "mimetype": "text/x-python",
   "name": "python",
   "nbconvert_exporter": "python",
   "pygments_lexer": "ipython3",
   "version": "3.7.0"
  }
 },
 "nbformat": 4,
 "nbformat_minor": 2
}
